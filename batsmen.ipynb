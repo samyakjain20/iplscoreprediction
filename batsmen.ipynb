{
 "metadata": {
  "language_info": {
   "codemirror_mode": {
    "name": "ipython",
    "version": 3
   },
   "file_extension": ".py",
   "mimetype": "text/x-python",
   "name": "python",
   "nbconvert_exporter": "python",
   "pygments_lexer": "ipython3",
   "version": "3.8.3"
  },
  "orig_nbformat": 2,
  "kernelspec": {
   "name": "python383jvsc74a57bd0389da97a0dc4926acd54ea87759e5a83879f9cc8433a9bdf9278018ac56f4de8",
   "display_name": "Python 3.8.3 32-bit"
  }
 },
 "nbformat": 4,
 "nbformat_minor": 2,
 "cells": [
  {
   "cell_type": "code",
   "execution_count": 14,
   "metadata": {},
   "outputs": [],
   "source": [
    "import pandas as pd\n",
    "import numpy as np\n",
    "import sklearn\n",
    "from sklearn.preprocessing import OneHotEncoder"
   ]
  },
  {
   "cell_type": "code",
   "execution_count": 15,
   "metadata": {},
   "outputs": [
    {
     "output_type": "stream",
     "name": "stderr",
     "text": [
      "C:\\Users\\samyak jain\\AppData\\Local\\Programs\\Python\\Python38-32\\lib\\site-packages\\IPython\\core\\interactiveshell.py:3165: DtypeWarning: Columns (1) have mixed types.Specify dtype option on import or set low_memory=False.\n",
      "  has_raised = await self.run_ast_nodes(code_ast.body, cell_name,\n",
      "[2019 2018 2020 2021]\n",
      "['V Kohli' 'PA Patel' 'MM Ali' 'AB de Villiers' 'SR Watson' 'AT Rayudu'\n",
      " 'SK Raina' 'DA Warner' 'JM Bairstow' 'CA Lynn' 'N Rana' 'RV Uthappa'\n",
      " 'PP Shaw' 'S Dhawan' 'SS Iyer' 'CA Ingram' 'RG Sharma' 'Q de Kock'\n",
      " 'SA Yadav' 'KA Pollard' 'KL Rahul' 'MA Agarwal' 'CH Gayle' 'AM Rahane'\n",
      " 'JC Buttler' 'SP Narine' 'SN Khan' 'SV Samson' 'NS Naik' 'RR Pant'\n",
      " 'AD Russell' 'KD Karthik' 'SO Hetmyer' 'KM Jadhav' 'MS Dhoni'\n",
      " 'RA Tripathi' 'SPD Smith' 'SM Curran' 'F du Plessis' 'Ishan Kishan'\n",
      " 'V Shankar' 'MK Pandey' 'Shubman Gill' 'SD Lad' 'JL Denly' 'C Munro'\n",
      " 'KS Williamson' 'E Lewis' 'G Gambhir' 'Yuvraj Singh' 'KK Nair'\n",
      " 'BB McCullum' 'DJM Short' 'WP Saha' 'BA Stokes' 'GJ Maxwell' 'CH Morris'\n",
      " 'AJ Finch' 'JJ Roy' 'M Vijay' 'SW Billings' 'Mandeep Singh' 'YK Pathan'\n",
      " 'H Klaasen' 'M Vohra' 'RK Bhui' 'DJ Hooda' 'Shakib Al Hasan' 'KH Pandya'\n",
      " 'AD Hales' 'JP Duminy' 'K Gowtham' 'R Ashwin' 'AD Nath' 'MP Stoinis'\n",
      " 'JC Archer' 'SP Goswami' 'MK Tiwary' 'DA Miller' 'Harbhajan Singh'\n",
      " 'LS Livingstone' 'Gurkeerat Singh' 'P Negi' 'NA Saini' 'MJ Guptill'\n",
      " 'Mohammad Nabi' 'HH Pandya' 'N Pooran' 'MK Lomror' 'S Gopal' 'R Parag'\n",
      " 'SS Tiwary' 'D Padikkal' 'YBK Jaiswal' 'JR Philippe' 'P Simran Singh'\n",
      " 'EJG Morgan' 'N Jagadeesan' 'T Banton' 'Abdul Samad' 'RD Gaikwad'\n",
      " 'RA Jadeja' 'R Tewatia' 'PK Garg' 'JO Holder' 'Washington Sundar'\n",
      " 'RM Patidar']\n",
      "107\n"
     ]
    }
   ],
   "source": [
    "df = pd.read_csv('../data/all_matches.csv')\n",
    "df.replace('2007/08','2008',inplace=True)\n",
    "df.replace('2009/10','2010',inplace=True)\n",
    "df.replace('2020/21','2020',inplace=True)\n",
    "df['season'] = df['season'].astype(int)\n",
    "df = df.loc[df['season'] > 2017]\n",
    "df = df.loc[df['wides']!=1]\n",
    "df = df.loc[df['ball']<6.1]\n",
    "print(df['season'].unique())\n",
    "columns_to_remove = [ 'season', 'start_date', 'venue', 'batting_team', 'bowling_team', 'non_striker', 'bowler', 'extras','wides','noballs','byes','legbyes','penalty','wicket_type','other_wicket_type','player_dismissed','other_player_dismissed']\n",
    "df.drop(labels=columns_to_remove, axis=1, inplace=True)\n",
    "df = df.fillna(0)\n",
    "df.to_csv('bat.csv')\n",
    "print(df['striker'].unique())\n",
    "print(len(df['striker'].unique()))"
   ]
  },
  {
   "cell_type": "code",
   "execution_count": 16,
   "metadata": {},
   "outputs": [],
   "source": [
    "diff_bats = df['striker'].unique()\n",
    "main = pd.DataFrame(columns= ['batsmen','balls_faced','runs'])\n",
    "# main.to_csv('batsmen.csv', index=False)\n",
    "# dfBat = pd.read_csv('batsmen.csv')\n",
    "\n",
    "for diff in diff_bats:\n",
    "    _df = df.loc[df['striker']==diff]\n",
    "    playerName = diff[0] + \" \" +  diff.split(\" \")[-1][0:]\n",
    "\n",
    "    totalruns = _df['runs_off_bat'].sum().astype(int)\n",
    "    totalballs = len(_df)\n",
    "\n",
    "    X = [[playerName,totalballs,totalruns]]\n",
    "    X1 = pd.DataFrame(X, columns=['batsmen','balls_faced','runs'])\n",
    "    main = pd.concat([main,X1])\n",
    "    \n",
    "main.to_csv('batsmen2.csv', index=False)"
   ]
  },
  {
   "cell_type": "code",
   "execution_count": 17,
   "metadata": {},
   "outputs": [],
   "source": [
    "dfBat = pd.read_csv('batsmen2.csv')\n",
    "\n",
    "dfBat['strikeRate'] = (dfBat['runs']/dfBat['balls_faced'])*100\n",
    "\n",
    "a = dfBat['strikeRate']\n",
    "b = dfBat['runs']\n",
    "\n",
    "rating = []\n",
    "\n",
    "for i in range(len(dfBat)):\n",
    "    if ((a[i]>=170) & (b[i]>=100)):\n",
    "        rating.append(9.50)\n",
    "    elif ((a[i]>=150) & (b[i]>=100)):\n",
    "        rating.append(9.00)\n",
    "    elif ((a[i]>=140) & (b[i]>=100)):\n",
    "        rating.append(8.75)\n",
    "    elif ((a[i]>=130) & (b[i]>=100)):\n",
    "        rating.append(8.50)\n",
    "    elif ((a[i]>=120) & (b[i]>=100)):\n",
    "        rating.append(8.25)\n",
    "    elif ((a[i]>=110) & (b[i]>=100)):\n",
    "        rating.append(8.00)\n",
    "    elif ((a[i]<110) & (b[i]>=100)):\n",
    "        rating.append(7.50)\n",
    "    elif ((a[i]>=140)):\n",
    "        rating.append(8.25)\n",
    "    elif ((a[i]>=110) & (a[i]<=140)):\n",
    "        rating.append(8.00)\n",
    "    elif ((a[i]<=110)):\n",
    "        rating.append(7.75)\n",
    "    else:\n",
    "        rating.append(8.00)\n",
    "\n",
    "dfBat['Rating'] = rating\n",
    "dfBat.to_csv('batsmen2.csv')\n"
   ]
  },
  {
   "cell_type": "code",
   "execution_count": null,
   "metadata": {},
   "outputs": [],
   "source": []
  }
 ]
}