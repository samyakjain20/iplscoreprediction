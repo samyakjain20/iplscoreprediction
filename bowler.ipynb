{
 "metadata": {
  "language_info": {
   "codemirror_mode": {
    "name": "ipython",
    "version": 3
   },
   "file_extension": ".py",
   "mimetype": "text/x-python",
   "name": "python",
   "nbconvert_exporter": "python",
   "pygments_lexer": "ipython3",
   "version": "3.8.3"
  },
  "orig_nbformat": 2,
  "kernelspec": {
   "name": "python383jvsc74a57bd0389da97a0dc4926acd54ea87759e5a83879f9cc8433a9bdf9278018ac56f4de8",
   "display_name": "Python 3.8.3 32-bit"
  }
 },
 "nbformat": 4,
 "nbformat_minor": 2,
 "cells": [
  {
   "cell_type": "code",
   "execution_count": 5,
   "metadata": {},
   "outputs": [],
   "source": [
    "import pandas as pd\n",
    "import numpy as np\n",
    "import sklearn\n",
    "from sklearn.preprocessing import OneHotEncoder"
   ]
  },
  {
   "cell_type": "code",
   "execution_count": 6,
   "metadata": {},
   "outputs": [
    {
     "output_type": "stream",
     "name": "stderr",
     "text": [
      "C:\\Users\\samyak jain\\AppData\\Local\\Programs\\Python\\Python38-32\\lib\\site-packages\\IPython\\core\\interactiveshell.py:3165: DtypeWarning: Columns (1) have mixed types.Specify dtype option on import or set low_memory=False.\n",
      "  has_raised = await self.run_ast_nodes(code_ast.body, cell_name,\n",
      "Index(['match_id', 'innings', 'ball', 'bowler', 'runs_off_bat', 'wides',\n",
      "       'noballs', 'wicket_type'],\n",
      "      dtype='object')\n"
     ]
    }
   ],
   "source": [
    "df = pd.read_csv('../data/all_matches.csv')\n",
    "df.replace('2007/08','2008',inplace=True)\n",
    "df.replace('2009/10','2010',inplace=True)\n",
    "df.replace('2020/21','2020',inplace=True)\n",
    "df['season'] = df['season'].astype(int)\n",
    "df = df.loc[df['season'] > 2017]\n",
    "df = df.loc[df['wides']!=1]\n",
    "df = df.loc[df['ball']<6.1]\n",
    "columns_to_remove = [ 'season', 'start_date', 'venue', 'batting_team', 'bowling_team', 'non_striker', 'striker', 'extras','byes','legbyes','penalty','other_wicket_type','player_dismissed','other_player_dismissed']\n",
    "df.drop(labels=columns_to_remove, axis=1, inplace=True)\n",
    "# print(df)\n",
    "df = df.fillna(0)\n",
    "# df.to_csv('ball.csv')\n",
    "# print(df['wicket_type'].unique())\n",
    "print(df.columns)\n"
   ]
  },
  {
   "cell_type": "code",
   "execution_count": 7,
   "metadata": {},
   "outputs": [],
   "source": [
    "diff_balls = df['bowler'].unique()\n",
    "main = pd.DataFrame(columns= ['bowler','balls_bowled','runs_conceeded','wickets'])\n",
    "\n",
    "for diff in diff_balls:\n",
    "    _df = df.loc[df['bowler']==diff]\n",
    "    playerName = diff[0] + \" \" +  diff.split(\" \")[-1][0:]\n",
    "    \n",
    "    runs_bat = _df['runs_off_bat'].sum().astype(int)\n",
    "    totalwides = _df['wides'].sum().astype(int)\n",
    "    totalnoballs = _df['noballs'].sum().astype(int)\n",
    "    totalruns = runs_bat + totalwides + totalnoballs \n",
    "    \n",
    "    dfBall = _df.loc[(_df['wides']!=1) & (_df['noballs']!=1) ]\n",
    "    totalballs = len(dfBall)\n",
    "\n",
    "    dfWickets = _df.loc[(_df['wicket_type']!= 0) & (_df['wicket_type']!= 'run out') & (_df['wicket_type']!= 'retired hurt') ]\n",
    "    wickets = len(dfWickets)\n",
    "\n",
    "    X = [[playerName,totalballs,totalruns,wickets]]\n",
    "    X1 = pd.DataFrame(X, columns=['bowler','balls_bowled','runs_conceeded','wickets'])\n",
    "    main = pd.concat([main,X1])\n",
    "    \n",
    "main.to_csv('bowler2.csv', index=False)"
   ]
  },
  {
   "cell_type": "code",
   "execution_count": 8,
   "metadata": {},
   "outputs": [],
   "source": [
    "dfBowl = pd.read_csv('bowler2.csv')\n",
    "\n",
    "dfBowl['Economy'] = (dfBowl['runs_conceeded']/dfBowl['balls_bowled'])*6\n",
    "\n",
    "a = dfBowl['Economy']\n",
    "b = dfBowl['balls_bowled']\n",
    "c = dfBowl['wickets']\n",
    "\n",
    "rating = []\n",
    "\n",
    "for i in range(len(dfBowl)):\n",
    "    if ((a[i]<=7.50) & (b[i]>=240) & (c[i]>=10)):\n",
    "        rating.append(9.50)\n",
    "    elif ((a[i]<=8.00) & (b[i]>=120) & (c[i]>=20)):\n",
    "        rating.append(9.25)\n",
    "    elif ((a[i]<=8.00) & (c[i]>=5)):\n",
    "        rating.append(9.00)\n",
    "    elif ((a[i]<=7.50) & (b[i]>=150)):\n",
    "        rating.append(8.75)\n",
    "    elif ((a[i]<=8.0) & (b[i]>=150)):\n",
    "        rating.append(8.50)\n",
    "    elif ((a[i]<=8.50) &  (b[i]>=150)):\n",
    "        rating.append(8.25)\n",
    "    elif ((a[i]<=8.00)  &  (b[i]>=150) & (c[i]>=3)):\n",
    "        rating.append(8.25)\n",
    "    elif ((a[i]<=9.00) &  (b[i]>=150)):\n",
    "        rating.append(8.00)\n",
    "    elif ((a[i]<=9.50) &  (b[i]>=150)):\n",
    "        rating.append(7.50)\n",
    "    elif ((a[i]<=8.70) &  (b[i]>=90) & (c[i]>=5)):\n",
    "        rating.append(8.25)\n",
    "    elif ((a[i]<=9.0) & (c[i]>=5)):\n",
    "        rating.append(7.25)\n",
    "    elif ((a[i]<=9.0) &  (b[i]>=150) &(c[i]>=5)):\n",
    "        rating.append(7.00)\n",
    "    else:\n",
    "        rating.append(8.00)\n",
    "dfBowl['Rating'] = rating\n",
    "dfBowl.to_csv('bowler2.csv')"
   ]
  },
  {
   "cell_type": "code",
   "execution_count": null,
   "metadata": {},
   "outputs": [],
   "source": []
  }
 ]
}